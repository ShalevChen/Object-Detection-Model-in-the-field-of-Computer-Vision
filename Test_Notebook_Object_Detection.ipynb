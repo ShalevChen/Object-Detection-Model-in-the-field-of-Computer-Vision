{
  "cells": [
    {
      "cell_type": "markdown",
      "metadata": {
        "id": "Fbtmi26eYfaK"
      },
      "source": [
        "\n",
        "\n",
        "#**Test Notebook - Object Detection**\n",
        "\n",
        "#**Chen Shalev**\n",
        "\n",
        "\n",
        "\n"
      ]
    },
    {
      "cell_type": "markdown",
      "metadata": {
        "id": "Sl-RKCAWd25V"
      },
      "source": [
        "#**Import Libraries**\n"
      ]
    },
    {
      "cell_type": "code",
      "execution_count": null,
      "metadata": {
        "id": "WhOJs5szYonv"
      },
      "outputs": [],
      "source": [
        "import numpy as np\n",
        "import pandas as pd\n",
        "import cv2\n",
        "from sklearn.utils import shuffle\n",
        "from matplotlib.patches import Rectangle\n",
        "import matplotlib.pyplot as plt\n",
        "import warnings\n",
        "import os\n",
        "import json\n",
        "warnings.simplefilter('ignore')"
      ]
    },
    {
      "cell_type": "markdown",
      "source": [
        "#**Loading Weights**"
      ],
      "metadata": {
        "id": "81nQm2j869BL"
      }
    },
    {
      "cell_type": "code",
      "source": [
        "import gdown\n",
        "\n",
        "# The file ID from the provided Google Drive link\n",
        "file_id = '1GW3ddn9bc79J0tduVMpBLxFjOtxueIGN'\n",
        "json_url = f'https://drive.google.com/uc?id={file_id}'\n",
        "json_output = 'yolov5su.pt'\n",
        "\n",
        "# Download the file\n",
        "gdown.download(json_url, json_output, quiet=False)\n",
        "\n",
        "\n",
        "# Extracting file ID from the Google Drive link\n",
        "file_url = 'https://drive.google.com/file/d/14L8mYwWXdXLGWp8LbVYLt7OvDNzRw5-o/view?usp=drive_link'\n",
        "file_id = file_url.split('/')[-2]\n",
        "\n",
        "# Generating the direct download link\n",
        "direct_download_url = f'https://drive.google.com/uc?id={file_id}'\n",
        "\n",
        "# Specifying the output file name\n",
        "output_file = 'yolov8m.pt'\n",
        "\n",
        "# Downloading the file\n",
        "gdown.download(direct_download_url, output_file, quiet=False)"
      ],
      "metadata": {
        "id": "lh8fSzyz6-TS"
      },
      "execution_count": null,
      "outputs": []
    },
    {
      "cell_type": "markdown",
      "metadata": {
        "id": "niym6_vxVArG"
      },
      "source": [
        "#**My Model**"
      ]
    },
    {
      "cell_type": "code",
      "execution_count": null,
      "metadata": {
        "id": "Aj0bc0a_HR0n"
      },
      "outputs": [],
      "source": [
        "!pip install ultralytics\n",
        "\n",
        "from ultralytics import YOLO\n",
        "import PIL\n",
        "from PIL import Image\n",
        "from IPython.display import display\n",
        "import os\n",
        "import pathlib\n"
      ]
    },
    {
      "cell_type": "markdown",
      "metadata": {
        "id": "6FX28ifCJJZl"
      },
      "source": [
        "#**Upload Image**"
      ]
    },
    {
      "cell_type": "code",
      "execution_count": null,
      "metadata": {
        "id": "HCEC_QMzJIwN"
      },
      "outputs": [],
      "source": [
        "\n",
        "\n",
        "# Function to upload file\n",
        "def upload_file():\n",
        "    from google.colab import files\n",
        "    uploaded = files.upload()\n",
        "    return list(uploaded.keys())[0]  # Return the first uploaded file path\n",
        "\n",
        "# Initialize YOLO model\n",
        "model = YOLO(\"yolov5s.pt\")  # Assuming \"yolov5s.pt\" is the model file you want to use\n",
        "\n",
        "# Get the file path from the user\n",
        "new_image_path = upload_file()  # Use the upload_file() function to get the image path\n",
        "\n",
        "# Predict on the new image\n",
        "results = model.predict(source=new_image_path, save=True, conf=0.2, iou=0.5)\n",
        "\n",
        "# Iterate through the results and print object detections\n",
        "for result in results:\n",
        "    for box in result.boxes:\n",
        "        class_id = result.names[box.cls[0].item()]\n",
        "        cords = box.xyxy[0].tolist()\n",
        "        cords = [round(x) for x in cords]\n",
        "        conf = round(box.conf[0].item(), 2)\n",
        "        print(\"Object type:\", class_id)\n",
        "        print(\"Coordinates:\", cords)\n",
        "        print(\"Probability:\", conf)\n",
        "        print(\"---\")\n",
        "\n",
        "# Plot the results\n",
        "plot = results[0].plot()\n",
        "plot = cv2.cvtColor(plot, cv2.COLOR_BGR2RGB)\n",
        "display(Image.fromarray(plot))\n"
      ]
    },
    {
      "cell_type": "markdown",
      "source": [
        "#**Display Image**"
      ],
      "metadata": {
        "id": "Q6IgX4le8Nd-"
      }
    },
    {
      "cell_type": "code",
      "source": [
        "\n",
        "# Plot the results\n",
        "plot = results[0].plot()\n",
        "plot = cv2.cvtColor(plot, cv2.COLOR_BGR2RGB)\n",
        "display(Image.fromarray(plot))"
      ],
      "metadata": {
        "id": "ceW_Apo5s7Sc"
      },
      "execution_count": null,
      "outputs": []
    },
    {
      "cell_type": "markdown",
      "metadata": {
        "id": "WZXNLDuuNhqH"
      },
      "source": [
        "#**Upload Video**"
      ]
    },
    {
      "cell_type": "code",
      "source": [
        "# Function to upload file\n",
        "def upload_file():\n",
        "    from google.colab import files\n",
        "    uploaded = files.upload()\n",
        "    return list(uploaded.keys())[0]  # Return the first uploaded file path\n",
        "\n",
        "# Initialize YOLO model\n",
        "model = YOLO(\"yolov5s.pt\")  # Assuming \"yolov5s.pt\" is the model file you want to use\n",
        "\n",
        "# Get the file path from the user\n",
        "new_video_path = upload_file()  # Use the upload_file() function to get the video path\n",
        "\n",
        "import cv2\n",
        "from google.colab.patches import cv2_imshow\n",
        "from IPython.display import HTML\n",
        "import io\n",
        "import base64\n",
        "\n",
        "# Define a color map for different classes\n",
        "color_map = {\n",
        "    0: (0, 255, 0),     # Green for class 0\n",
        "    1: (255, 0, 0),     # Blue for class 1\n",
        "    2: (0, 0, 255),     # Red for class 2\n",
        "    3: (255, 255, 0),   # Cyan for class 3\n",
        "    4: (255, 0, 255),   # Magenta for class 4\n",
        "    # Add more colors for other classes if needed\n",
        "}\n",
        "\n",
        "# Open the video file\n",
        "cap = cv2.VideoCapture(new_video_path)\n",
        "\n",
        "# Check if the video opened successfully\n",
        "if not cap.isOpened():\n",
        "    print(\"Error: Could not open video.\")\n",
        "else:\n",
        "    # Get the video properties\n",
        "    width = int(cap.get(cv2.CAP_PROP_FRAME_WIDTH))\n",
        "    height = int(cap.get(cv2.CAP_PROP_FRAME_HEIGHT))\n",
        "    fps = cap.get(cv2.CAP_PROP_FPS)\n",
        "\n",
        "    # Define the codec and create VideoWriter object\n",
        "    fourcc = cv2.VideoWriter_fourcc(*'mp4v')\n",
        "    out = cv2.VideoWriter('output.mp4', fourcc, fps, (width, height))\n",
        "\n",
        "    # Loop through the video frames\n",
        "    while cap.isOpened():\n",
        "        ret, frame = cap.read()\n",
        "        if not ret:\n",
        "            break\n",
        "\n",
        "        # Predict on the current frame\n",
        "        results = model.predict(source=frame, save=False, conf=0.2, iou=0.5)\n",
        "\n",
        "        # Draw detections on the frame\n",
        "        for result in results:\n",
        "            for box in result.boxes:\n",
        "                class_id = box.cls[0].item()\n",
        "                class_name = result.names[class_id]\n",
        "                cords = box.xyxy[0].tolist()\n",
        "                cords = [round(x) for x in cords]\n",
        "                conf = round(box.conf[0].item(), 2)\n",
        "\n",
        "                # Get the color for the class\n",
        "                color = color_map.get(class_id, (0, 255, 255))  # Default color is yellow if class_id not in color_map\n",
        "\n",
        "                # Draw the bounding box\n",
        "                cv2.rectangle(frame, (cords[0], cords[1]), (cords[2], cords[3]), color, 2)\n",
        "                # Put the label\n",
        "                label = f\"{class_name}: {conf}\"\n",
        "                cv2.putText(frame, label, (cords[0], cords[1] - 10), cv2.FONT_HERSHEY_SIMPLEX, 0.5, color, 2)\n",
        "\n",
        "        # Write the frame with detections to the output video\n",
        "        out.write(frame)\n",
        "\n",
        "    # Release everything when the job is finished\n",
        "    cap.release()\n",
        "    out.release()\n",
        "    cv2.destroyAllWindows()\n",
        "\n"
      ],
      "metadata": {
        "id": "HkD557RSrBwd"
      },
      "execution_count": null,
      "outputs": []
    },
    {
      "cell_type": "markdown",
      "source": [
        "#**Convert to MKV**\n",
        "\n",
        "\n",
        "\n",
        "\n"
      ],
      "metadata": {
        "id": "xEbhhhs0tMIN"
      }
    },
    {
      "cell_type": "code",
      "source": [
        "# delete output.mkv\n",
        "!rm output.mkv\n",
        "# Step 1: Install FFmpeg\n",
        "\n",
        "!apt-get install -y ffmpeg\n",
        "\n",
        "# Step 2: Convert the MP4 to MKV\n",
        "!ffmpeg -i output.mp4 output.mkv\n",
        "\n"
      ],
      "metadata": {
        "id": "qWLwydWq2qzB"
      },
      "execution_count": null,
      "outputs": []
    },
    {
      "cell_type": "markdown",
      "source": [
        "#**Display video**"
      ],
      "metadata": {
        "id": "kg1r0GrAzUeG"
      }
    },
    {
      "cell_type": "code",
      "source": [
        "# Step 3: Display the Video\n",
        "from IPython.display import HTML\n",
        "from base64 import b64encode\n",
        "\n",
        "# Function to display the video\n",
        "def display_video(file_path):\n",
        "    video = open(file_path, \"rb\").read()\n",
        "    video_encoded = b64encode(video).decode('ascii')\n",
        "    return HTML(f'''\n",
        "        <video width=\"1000\" height=\"800\" controls>\n",
        "            <source src=\"data:video/mp4;base64,{video_encoded}\" type=\"video/mp4\">\n",
        "        </video>\n",
        "    ''')\n",
        "\n",
        "# Display the MKV video\n",
        "display_video('output.mkv')"
      ],
      "metadata": {
        "id": "8lDItiyA3lDB"
      },
      "execution_count": null,
      "outputs": []
    }
  ],
  "metadata": {
    "colab": {
      "provenance": [],
      "gpuType": "T4"
    },
    "kernelspec": {
      "display_name": "Python 3",
      "name": "python3"
    },
    "language_info": {
      "name": "python"
    },
    "accelerator": "GPU"
  },
  "nbformat": 4,
  "nbformat_minor": 0
}